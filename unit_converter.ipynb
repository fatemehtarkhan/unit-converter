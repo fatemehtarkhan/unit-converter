{
 "cells": [
  {
   "cell_type": "code",
   "execution_count": 1,
   "id": "f93808cb-5ef1-4f41-b334-830595855c7d",
   "metadata": {},
   "outputs": [],
   "source": [
    "# Helloooooooo  :)))))))))))))))))"
   ]
  },
  {
   "cell_type": "code",
   "execution_count": null,
   "id": "75c01a5b-bf76-4df6-ae63-217b20356fbf",
   "metadata": {},
   "outputs": [],
   "source": [
    "dis_km = float(input(\"Please Enter Distance In  KM: \"))\n",
    "tem_c = float(input(\"Please Enter Temperture In  C: \"))\n",
    "\n",
    "\n",
    "def kilometers_to_miles(dis_km):\n",
    "    dis_m =  int(dis_km) * 0.621371\n",
    "    return dis_m\n",
    "\n",
    "def Celsius_to_Fahrenheit(tem_c):\n",
    "    tem_f = tem_c + 33.8\n",
    "    return tem_f\n",
    "\n",
    "kilometers_to_miles(dis_km)\n",
    "Celsius_to_Fahrenheit(tem_c)"
   ]
  },
  {
   "cell_type": "code",
   "execution_count": null,
   "id": "8e128548-896c-416d-9eef-3b6a1ba029b6",
   "metadata": {},
   "outputs": [],
   "source": []
  }
 ],
 "metadata": {
  "kernelspec": {
   "display_name": "Python 3 (ipykernel)",
   "language": "python",
   "name": "python3"
  },
  "language_info": {
   "codemirror_mode": {
    "name": "ipython",
    "version": 3
   },
   "file_extension": ".py",
   "mimetype": "text/x-python",
   "name": "python",
   "nbconvert_exporter": "python",
   "pygments_lexer": "ipython3",
   "version": "3.12.7"
  }
 },
 "nbformat": 4,
 "nbformat_minor": 5
}
